{
 "cells": [
  {
   "cell_type": "code",
   "execution_count": 1,
   "metadata": {},
   "outputs": [],
   "source": [
    "import numpy as np\n",
    "import matplotlib.pyplot as plt"
   ]
  },
  {
   "cell_type": "code",
   "execution_count": 2,
   "metadata": {},
   "outputs": [],
   "source": [
    "LC_sweep = np.load('LC_sweep_data_20190921_201251.npz')\n",
    "coarse, mid, fine, LC_code, counts_LC = LC_sweep['coarse'], LC_sweep['mid'], LC_sweep['fine'], LC_sweep['LC_code'], LC_sweep['counts_LC']"
   ]
  },
  {
   "cell_type": "code",
   "execution_count": 3,
   "metadata": {},
   "outputs": [
    {
     "data": {
      "image/png": "[encoded data removed]",
      "text/plain": [
       "<Figure size 432x288 with 1 Axes>"
      ]
     },
     "metadata": {
      "needs_background": "light"
     },
     "output_type": "display_data"
    }
   ],
   "source": [
    "plt.plot(LC_code, counts_LC)\n",
    "plt.title('LC counter vs. coarse + mid + fine')\n",
    "plt.xlabel('Coarse + mid + fine')\n",
    "plt.ylabel('LC counter')\n",
    "plt.show()"
   ]
  },
  {
   "cell_type": "code",
   "execution_count": 4,
   "metadata": {},
   "outputs": [],
   "source": [
    "channel = 11\n",
    "channel_frequency = np.int64(2.405e9) # every channel increments the frequency by 5MHz\n",
    "max_channel = 26\n",
    "\n",
    "LC_frequencies = counts_LC.astype(np.int64) * 960 * 10\n",
    "\n",
    "def coarse_mid_fine(code):\n",
    "    fine, code = code % 32, code // 32\n",
    "    mid, code = code % 32, code // 32\n",
    "    coarse = code\n",
    "    return (coarse, mid, fine)"
   ]
  },
  {
   "cell_type": "code",
   "execution_count": 5,
   "metadata": {},
   "outputs": [],
   "source": [
    "channels = np.arange(channel, max_channel + 1)\n",
    "channel_frequencies = np.array([np.int64(channel_frequency + 5e6 * i) for i in range(max_channel - channel + 1)])\n",
    "channel_codes = []\n",
    "channel_diffs = []"
   ]
  },
  {
   "cell_type": "code",
   "execution_count": 6,
   "metadata": {},
   "outputs": [],
   "source": [
    "# Find 5 closest codes to channel frequency\n",
    "for channel_frequency in channel_frequencies:\n",
    "    min_codes = []\n",
    "    min_diffs = []\n",
    "    channel_freq = np.abs(np.copy(LC_frequencies) - channel_frequency)\n",
    "    for _ in range(5):\n",
    "        code = np.argmin(channel_freq)\n",
    "        min_codes.append(coarse_mid_fine(code))\n",
    "        min_diffs.append(channel_freq[code])\n",
    "        channel_freq[code] = np.max(channel_freq)\n",
    "    channel_codes.append(min_codes)\n",
    "    channel_diffs.append(min_diffs)"
   ]
  },
  {
   "cell_type": "code",
   "execution_count": 7,
   "metadata": {},
   "outputs": [
    {
     "data": {
      "text/plain": [
       "([[(23, 16, 30), (23, 18, 13), (23, 19, 4), (24, 0, 8), (24, 0, 7)],\n",
       "  [(23, 25, 8), (23, 23, 26), (23, 24, 18), (24, 7, 3), (24, 5, 22)],\n",
       "  [(23, 30, 21), (23, 31, 12), (24, 12, 17), (24, 11, 25), (24, 13, 8)],\n",
       "  [(24, 20, 2), (25, 0, 16), (24, 17, 29), (24, 19, 11), (24, 18, 21)],\n",
       "  [(25, 7, 9), (24, 24, 24), (24, 25, 15), (25, 5, 27), (25, 6, 19)],\n",
       "  [(25, 11, 30), (24, 31, 18), (25, 14, 3), (24, 30, 26), (25, 13, 13)],\n",
       "  [(26, 1, 11), (26, 2, 2), (25, 19, 16), (25, 19, 17), (25, 20, 7)],\n",
       "  [(25, 25, 18), (26, 8, 4), (25, 24, 27), (25, 26, 9), (26, 7, 13)],\n",
       "  [(26, 14, 5), (25, 30, 28), (25, 31, 20), (26, 14, 6), (26, 12, 24)],\n",
       "  [(26, 18, 26), (26, 20, 8), (27, 2, 2), (27, 1, 12), (26, 19, 17)],\n",
       "  [(27, 8, 3), (27, 5, 31), (26, 26, 8), (27, 6, 22), (27, 7, 12)],\n",
       "  [(26, 30, 28), (26, 31, 19), (27, 11, 31), (27, 12, 23), (27, 14, 3)],\n",
       "  [(27, 19, 14), (27, 18, 24), (27, 20, 0), (28, 0, 20), (27, 20, 5)],\n",
       "  [(27, 24, 24), (28, 6, 19), (28, 7, 9), (27, 26, 4), (28, 5, 28)],\n",
       "  [(28, 12, 19), (28, 11, 28), (28, 13, 9), (27, 31, 12), (27, 31, 13)],\n",
       "  [(29, 0, 12), (29, 1, 2), (28, 17, 28), (28, 18, 19), (28, 19, 8)]],\n",
       " [[8000, 11200, 11200, 20800, 46400],\n",
       "  [6400, 32000, 32000, 35200, 41600],\n",
       "  [4800, 14400, 14400, 24000, 24000],\n",
       "  [3200, 6400, 12800, 12800, 22400],\n",
       "  [1600, 17600, 27200, 30400, 36800],\n",
       "  [9600, 19200, 28800, 38400, 38400],\n",
       "  [8000, 11200, 36800, 40000, 40000],\n",
       "  [3200, 16000, 22400, 22400, 25600],\n",
       "  [4800, 14400, 24000, 33600, 43200],\n",
       "  [12800, 12800, 12800, 35200, 51200],\n",
       "  [11200, 17600, 20800, 30400, 40000],\n",
       "  [9600, 19200, 19200, 28800, 28800],\n",
       "  [8000, 20800, 20800, 40000, 49600],\n",
       "  [3200, 12800, 12800, 22400, 22400],\n",
       "  [4800, 14400, 14400, 33600, 33600],\n",
       "  [6400, 22400, 25600, 25600, 41600]])"
      ]
     },
     "execution_count": 7,
     "metadata": {},
     "output_type": "execute_result"
    }
   ],
   "source": [
    "channel_codes, channel_diffs"
   ]
  },
  {
   "cell_type": "code",
   "execution_count": 8,
   "metadata": {},
   "outputs": [
    {
     "name": "stdout",
     "output_type": "stream",
     "text": [
      "Channel 11 (23, 18, 13)\n",
      "Channel 12 (23, 24, 18)\n",
      "Channel 13 (24, 12, 17)\n",
      "Channel 14 (25, 0, 16)\n",
      "Channel 15 (24, 25, 15)\n",
      "Channel 16 (24, 31, 18)\n",
      "Channel 17 (25, 19, 16)\n",
      "Channel 18 (25, 25, 18)\n",
      "Channel 19 (25, 31, 20)\n",
      "Channel 20 (26, 19, 17)\n",
      "Channel 21 (27, 7, 12)\n",
      "Channel 22 (26, 31, 19)\n",
      "Channel 23 (27, 19, 14)\n",
      "Channel 24 (28, 6, 19)\n",
      "Channel 25 (28, 12, 19)\n",
      "Channel 26 (28, 18, 19)\n"
     ]
    }
   ],
   "source": [
    "# Choose code with fine closest to the center\n",
    "min_channel_codes = [min(codes, key=lambda code: np.abs(code[2] - 16)) for codes in channel_codes]\n",
    "\n",
    "for channel, code in zip(channels, min_channel_codes):\n",
    "    print(\"Channel\", channel, code)"
   ]
  }
 ],
 "metadata": {
  "kernelspec": {
   "display_name": "Python 3",
   "language": "python",
   "name": "python3"
  },
  "language_info": {
   "codemirror_mode": {
    "name": "ipython",
    "version": 3
   },
   "file_extension": ".py",
   "mimetype": "text/x-python",
   "name": "python",
   "nbconvert_exporter": "python",
   "pygments_lexer": "ipython3",
   "version": "3.8.5"
  }
 },
 "nbformat": 4,
 "nbformat_minor": 2
}
