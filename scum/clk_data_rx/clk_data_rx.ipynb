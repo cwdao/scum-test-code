{
 "cells": [
  {
   "cell_type": "code",
   "execution_count": 1,
   "metadata": {},
   "outputs": [],
   "source": [
    "filename = 'q4.txt'\n",
    "\n",
    "with open(filename, 'r') as f:\n",
    "    lines = f.readlines()\n",
    "\n",
    "data = ''.join([line[-3] for line in lines[1:]])"
   ]
  },
  {
   "cell_type": "code",
   "execution_count": 2,
   "metadata": {},
   "outputs": [
    {
     "name": "stdout",
     "output_type": "stream",
     "text": [
      "Found 011010110111110110010 in data starting at index 0.\n"
     ]
    }
   ],
   "source": [
    "substring = '01101011011111011001000101110001'\n",
    "\n",
    "i = len(substring)\n",
    "start, found = 0, False\n",
    "while not found:\n",
    "    if substring[0:i] in data:\n",
    "        found = True\n",
    "        start = data.index(substring[0:i])\n",
    "        print('Found {} in data starting at index {}.'.format(substring[0:i], start))\n",
    "        if substring[0:i] in data[start + 1:]:\n",
    "            print('Found substring later too.')\n",
    "    else:\n",
    "        i -= 1"
   ]
  },
  {
   "cell_type": "code",
   "execution_count": 3,
   "metadata": {},
   "outputs": [
    {
     "name": "stdout",
     "output_type": "stream",
     "text": [
      "Expected: 0x6b7d9171\n",
      "Actual:   0x6b7d9571\n",
      "Bit errors: 1\n",
      "Expected: 0x6b7d9171fe2b8984f0ab260d251cd2\n",
      "Actual:   0x6b7d9571fc2b8984f1ab260d651cd2\n"
     ]
    }
   ],
   "source": [
    "print('Expected: 0x6b7d9171')\n",
    "print('Actual:   {}'.format(hex(int(data[start:start + 32], 2))))\n",
    "num_bit_errors = bin(int(substring, 2) ^ int(data[start:start + 32], 2)).count('1')\n",
    "print('Bit errors: {}'.format(num_bit_errors))\n",
    "\n",
    "print('Expected: 0x6b7d9171fe2b8984f0ab260d251cd2')\n",
    "print('Actual:   {}'.format(hex(int(data[start:start + 120], 2))))"
   ]
  }
 ],
 "metadata": {
  "kernelspec": {
   "display_name": "Python 3",
   "language": "python",
   "name": "python3"
  },
  "language_info": {
   "codemirror_mode": {
    "name": "ipython",
    "version": 3
   },
   "file_extension": ".py",
   "mimetype": "text/x-python",
   "name": "python",
   "nbconvert_exporter": "python",
   "pygments_lexer": "ipython3",
   "version": "3.6.8"
  }
 },
 "nbformat": 4,
 "nbformat_minor": 2
}
